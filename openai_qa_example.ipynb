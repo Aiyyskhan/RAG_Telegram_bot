{
 "cells": [
  {
   "cell_type": "code",
   "execution_count": 1,
   "metadata": {},
   "outputs": [],
   "source": [
    "import os\n",
    "import pandas as pd\n",
    "import numpy as np\n",
    "import tiktoken\n",
    "import openai\n",
    "import PyPDF2\n",
    "from scipy import spatial\n",
    "from collections import deque\n",
    "from dotenv import load_dotenv\n",
    "\n",
    "load_dotenv()\n",
    "\n",
    "OPENAI_KEY = os.getenv(\"OPENAI_KEY\")"
   ]
  },
  {
   "cell_type": "code",
   "execution_count": 2,
   "metadata": {},
   "outputs": [
    {
     "data": {
      "text/plain": [
       "'Total pages: 13'"
      ]
     },
     "execution_count": 2,
     "metadata": {},
     "output_type": "execute_result"
    }
   ],
   "source": [
    "# Ссылка на источник статьи: https://openai.com/index/evolution-strategies/\n",
    "reader = PyPDF2.PdfReader(\"Evolution_Strategies_as_a_scalable_alternative_to_Reinforcement.pdf\")\n",
    "f\"Total pages: {len(reader.pages)}\""
   ]
  },
  {
   "cell_type": "code",
   "execution_count": 3,
   "metadata": {},
   "outputs": [
    {
     "data": {
      "text/plain": [
       "'Evolution Strategies as a\\nScalable Alternative to Reinforcement Learning\\nTim Salimans Jonathan Ho Xi Chen Szymon Sidor Ilya Sutskever\\nOpenAI\\nAbstract\\nWe explore the use of Evolution Strategies (ES), a class of black box optimization\\nalgorithms, as an alternative to popular MDP-based RL techniques such as Q-\\nlearning and Policy Gradients. Experiments on MuJoCo and Atari show that ES\\nis a viable solution strategy that scales extremely well with the number of CPUs\\navailable: By using a novel communication strategy based on common random\\nnumbers, our ES implementation only needs to communicate scalars, making it\\npossible to scale to over a thousand parallel workers. This allows us to solve 3D\\nhumanoid walking in 10 minutes and obtain competitive results on most Atari\\ngames after one hour of training. In addition, we highlight several advantages of\\nES as a black box optimization technique: it is invariant to action frequency and\\ndelayed rewards, tolerant of extremely long horizons, and does not need temporal\\ndiscounting or value function approximation.\\n1 Introduction\\nDeveloping agents that can accomplish challenging tasks in complex, uncertain environments is a key\\ngoal of artiﬁcial intelligence. Recently, the most popular paradigm for analyzing such problems has\\nbeen using a class of reinforcement learning (RL) algorithms based on the Markov Decision Process\\n(MDP) formalism and the concept of value functions. Successes of this approach include systems\\nthat learn to play Atari from pixels [Mnih et al., 2015], perform helicopter aerobatics Ng et al. [2006],\\nor play expert-level Go [Silver et al., 2016].\\nAn alternative approach to solving RL problems is using black-box optimization. This approach\\nis known as direct policy search [Schmidhuber and Zhao, 1998], or neuro-evolution [Risi and\\nTogelius, 2015], when applied to neural networks. In this paper, we study Evolution Strategies (ES)\\n[Rechenberg and Eigen, 1973], a particular set of optimization algorithms in this class. We show\\nthat ES can reliably train neural network policies, in a fashion well suited to be scaled up to modern\\ndistributed computer systems, for controlling robots in the MuJoCo physics simulator [Todorov et al.,\\n2012] and playing Atari games with pixel inputs [Mnih et al., 2015]. Our key ﬁndings are as follows:\\n1.We found that the use of virtual batch normalization [Salimans et al., 2016] and other\\nreparameterizations of the neural network policy (section 2.2) greatly improve the reliability\\nof evolution strategies. Without these methods ES proved brittle in our experiments, but with\\nthese reparameterizations we achieved strong results over a wide variety of environments.\\n2.We found the evolution strategies method to be highly parallelizable: by introducing a novel\\ncommunication strategy based on common random numbers, we are able to achieve linear\\nspeedups in run time even when using over a thousand workers. In particular, using 1,440\\nworkers, we have been able to solve the MuJoCo 3D humanoid task in under 10 minutes.\\n3.The data efﬁciency of evolution strategies was surprisingly good: we were able to match\\nthe ﬁnal performance of A3C [Mnih et al., 2016] on most Atari environments while using\\nbetween 3x and 10x as much data. The slight decrease in data efﬁciency is partly offset by a\\narXiv:1703.03864v2  [stat.ML]  7 Sep 2017'"
      ]
     },
     "execution_count": 3,
     "metadata": {},
     "output_type": "execute_result"
    }
   ],
   "source": [
    "page_0 = reader.pages[0]\n",
    "page_0.extract_text()"
   ]
  },
  {
   "cell_type": "code",
   "execution_count": 4,
   "metadata": {},
   "outputs": [],
   "source": [
    "# page_0"
   ]
  },
  {
   "cell_type": "code",
   "execution_count": 5,
   "metadata": {},
   "outputs": [],
   "source": [
    "def remove_newlines(ser: pd.Series):\n",
    "    ser = ser.str.replace(\"\\n\", ' ')\n",
    "    ser = ser.str.replace(\"\\\\n\", ' ')\n",
    "    ser = ser.str.replace(\"  \", ' ')\n",
    "    ser = ser.str.replace(\"  \", ' ')\n",
    "    return ser"
   ]
  },
  {
   "cell_type": "code",
   "execution_count": 6,
   "metadata": {},
   "outputs": [
    {
     "data": {
      "text/html": [
       "<div>\n",
       "<style scoped>\n",
       "    .dataframe tbody tr th:only-of-type {\n",
       "        vertical-align: middle;\n",
       "    }\n",
       "\n",
       "    .dataframe tbody tr th {\n",
       "        vertical-align: top;\n",
       "    }\n",
       "\n",
       "    .dataframe thead th {\n",
       "        text-align: right;\n",
       "    }\n",
       "</style>\n",
       "<table border=\"1\" class=\"dataframe\">\n",
       "  <thead>\n",
       "    <tr style=\"text-align: right;\">\n",
       "      <th></th>\n",
       "      <th>page</th>\n",
       "      <th>text</th>\n",
       "    </tr>\n",
       "  </thead>\n",
       "  <tbody>\n",
       "    <tr>\n",
       "      <th>0</th>\n",
       "      <td>page 0</td>\n",
       "      <td>Evolution Strategies as a\\nScalable Alternativ...</td>\n",
       "    </tr>\n",
       "    <tr>\n",
       "      <th>1</th>\n",
       "      <td>page 1</td>\n",
       "      <td>reduction in required computation of roughly 3...</td>\n",
       "    </tr>\n",
       "    <tr>\n",
       "      <th>2</th>\n",
       "      <td>page 2</td>\n",
       "      <td>setEθ∼pψF(θ) =E/epsilon1∼N(0,I)F(θ+σ/epsilon1)...</td>\n",
       "    </tr>\n",
       "    <tr>\n",
       "      <th>3</th>\n",
       "      <td>page 3</td>\n",
       "      <td>independent across iterations, we did not ﬁnd ...</td>\n",
       "    </tr>\n",
       "    <tr>\n",
       "      <th>4</th>\n",
       "      <td>page 4</td>\n",
       "      <td>ment or policy, or may only be available as hi...</td>\n",
       "    </tr>\n",
       "    <tr>\n",
       "      <th>5</th>\n",
       "      <td>page 5</td>\n",
       "      <td>3.2 Problem dimensionality\\nThe gradient estim...</td>\n",
       "    </tr>\n",
       "    <tr>\n",
       "      <th>6</th>\n",
       "      <td>page 6</td>\n",
       "      <td>4 Experiments\\n4.1 MuJoCo\\nWe evaluated ES on ...</td>\n",
       "    </tr>\n",
       "    <tr>\n",
       "      <th>7</th>\n",
       "      <td>page 7</td>\n",
       "      <td>10210310110218 cores, 657 minutes\\n1440 cores,...</td>\n",
       "    </tr>\n",
       "    <tr>\n",
       "      <th>8</th>\n",
       "      <td>page 8</td>\n",
       "      <td>6 Conclusion\\nWe have explored Evolution Strat...</td>\n",
       "    </tr>\n",
       "    <tr>\n",
       "      <th>9</th>\n",
       "      <td>page 9</td>\n",
       "      <td>Kenji Kawaguchi. Deep learning without poor lo...</td>\n",
       "    </tr>\n",
       "  </tbody>\n",
       "</table>\n",
       "</div>"
      ],
      "text/plain": [
       "     page                                               text\n",
       "0  page 0  Evolution Strategies as a\\nScalable Alternativ...\n",
       "1  page 1  reduction in required computation of roughly 3...\n",
       "2  page 2  setEθ∼pψF(θ) =E/epsilon1∼N(0,I)F(θ+σ/epsilon1)...\n",
       "3  page 3  independent across iterations, we did not ﬁnd ...\n",
       "4  page 4  ment or policy, or may only be available as hi...\n",
       "5  page 5  3.2 Problem dimensionality\\nThe gradient estim...\n",
       "6  page 6  4 Experiments\\n4.1 MuJoCo\\nWe evaluated ES on ...\n",
       "7  page 7  10210310110218 cores, 657 minutes\\n1440 cores,...\n",
       "8  page 8  6 Conclusion\\nWe have explored Evolution Strat...\n",
       "9  page 9  Kenji Kawaguchi. Deep learning without poor lo..."
      ]
     },
     "execution_count": 6,
     "metadata": {},
     "output_type": "execute_result"
    }
   ],
   "source": [
    "texts = []\n",
    "for idx, page in enumerate(reader.pages):\n",
    "    texts.append((f\"page {idx}\", page.extract_text()))\n",
    "\n",
    "df = pd.DataFrame(texts, columns=[\"page\", \"text\"])\n",
    "df.head(10)"
   ]
  },
  {
   "cell_type": "code",
   "execution_count": 7,
   "metadata": {},
   "outputs": [
    {
     "data": {
      "text/html": [
       "<div>\n",
       "<style scoped>\n",
       "    .dataframe tbody tr th:only-of-type {\n",
       "        vertical-align: middle;\n",
       "    }\n",
       "\n",
       "    .dataframe tbody tr th {\n",
       "        vertical-align: top;\n",
       "    }\n",
       "\n",
       "    .dataframe thead th {\n",
       "        text-align: right;\n",
       "    }\n",
       "</style>\n",
       "<table border=\"1\" class=\"dataframe\">\n",
       "  <thead>\n",
       "    <tr style=\"text-align: right;\">\n",
       "      <th></th>\n",
       "      <th>page</th>\n",
       "      <th>text</th>\n",
       "    </tr>\n",
       "  </thead>\n",
       "  <tbody>\n",
       "    <tr>\n",
       "      <th>0</th>\n",
       "      <td>page 0</td>\n",
       "      <td>page 0. Evolution Strategies as a Scalable Alt...</td>\n",
       "    </tr>\n",
       "    <tr>\n",
       "      <th>1</th>\n",
       "      <td>page 1</td>\n",
       "      <td>page 1. reduction in required computation of r...</td>\n",
       "    </tr>\n",
       "    <tr>\n",
       "      <th>2</th>\n",
       "      <td>page 2</td>\n",
       "      <td>page 2. setEθ∼pψF(θ) =E/epsilon1∼N(0,I)F(θ+σ/e...</td>\n",
       "    </tr>\n",
       "    <tr>\n",
       "      <th>3</th>\n",
       "      <td>page 3</td>\n",
       "      <td>page 3. independent across iterations, we did ...</td>\n",
       "    </tr>\n",
       "    <tr>\n",
       "      <th>4</th>\n",
       "      <td>page 4</td>\n",
       "      <td>page 4. ment or policy, or may only be availab...</td>\n",
       "    </tr>\n",
       "    <tr>\n",
       "      <th>5</th>\n",
       "      <td>page 5</td>\n",
       "      <td>page 5. 3.2 Problem dimensionality The gradien...</td>\n",
       "    </tr>\n",
       "    <tr>\n",
       "      <th>6</th>\n",
       "      <td>page 6</td>\n",
       "      <td>page 6. 4 Experiments 4.1 MuJoCo We evaluated ...</td>\n",
       "    </tr>\n",
       "    <tr>\n",
       "      <th>7</th>\n",
       "      <td>page 7</td>\n",
       "      <td>page 7. 10210310110218 cores, 657 minutes 1440...</td>\n",
       "    </tr>\n",
       "    <tr>\n",
       "      <th>8</th>\n",
       "      <td>page 8</td>\n",
       "      <td>page 8. 6 Conclusion We have explored Evolutio...</td>\n",
       "    </tr>\n",
       "    <tr>\n",
       "      <th>9</th>\n",
       "      <td>page 9</td>\n",
       "      <td>page 9. Kenji Kawaguchi. Deep learning without...</td>\n",
       "    </tr>\n",
       "    <tr>\n",
       "      <th>10</th>\n",
       "      <td>page 10</td>\n",
       "      <td>page 10. James C Spall. Multivariate stochasti...</td>\n",
       "    </tr>\n",
       "    <tr>\n",
       "      <th>11</th>\n",
       "      <td>page 11</td>\n",
       "      <td>page 11. Game DQN A3C FF, 1 day HyperNEAT ES F...</td>\n",
       "    </tr>\n",
       "    <tr>\n",
       "      <th>12</th>\n",
       "      <td>page 12</td>\n",
       "      <td>page 12. Table 3: MuJoCo tasks: Ratio of ES ti...</td>\n",
       "    </tr>\n",
       "  </tbody>\n",
       "</table>\n",
       "</div>"
      ],
      "text/plain": [
       "       page                                               text\n",
       "0    page 0  page 0. Evolution Strategies as a Scalable Alt...\n",
       "1    page 1  page 1. reduction in required computation of r...\n",
       "2    page 2  page 2. setEθ∼pψF(θ) =E/epsilon1∼N(0,I)F(θ+σ/e...\n",
       "3    page 3  page 3. independent across iterations, we did ...\n",
       "4    page 4  page 4. ment or policy, or may only be availab...\n",
       "5    page 5  page 5. 3.2 Problem dimensionality The gradien...\n",
       "6    page 6  page 6. 4 Experiments 4.1 MuJoCo We evaluated ...\n",
       "7    page 7  page 7. 10210310110218 cores, 657 minutes 1440...\n",
       "8    page 8  page 8. 6 Conclusion We have explored Evolutio...\n",
       "9    page 9  page 9. Kenji Kawaguchi. Deep learning without...\n",
       "10  page 10  page 10. James C Spall. Multivariate stochasti...\n",
       "11  page 11  page 11. Game DQN A3C FF, 1 day HyperNEAT ES F...\n",
       "12  page 12  page 12. Table 3: MuJoCo tasks: Ratio of ES ti..."
      ]
     },
     "execution_count": 7,
     "metadata": {},
     "output_type": "execute_result"
    }
   ],
   "source": [
    "df[\"text\"] = df[\"page\"] + \". \" + remove_newlines(df[\"text\"])\n",
    "df"
   ]
  },
  {
   "cell_type": "code",
   "execution_count": 8,
   "metadata": {},
   "outputs": [],
   "source": [
    "df.to_csv(\"Evolution_Strategies_as_a_scalable_alternative_to_Reinforcement.csv\")"
   ]
  },
  {
   "cell_type": "code",
   "execution_count": 9,
   "metadata": {},
   "outputs": [
    {
     "data": {
      "text/html": [
       "<div>\n",
       "<style scoped>\n",
       "    .dataframe tbody tr th:only-of-type {\n",
       "        vertical-align: middle;\n",
       "    }\n",
       "\n",
       "    .dataframe tbody tr th {\n",
       "        vertical-align: top;\n",
       "    }\n",
       "\n",
       "    .dataframe thead th {\n",
       "        text-align: right;\n",
       "    }\n",
       "</style>\n",
       "<table border=\"1\" class=\"dataframe\">\n",
       "  <thead>\n",
       "    <tr style=\"text-align: right;\">\n",
       "      <th></th>\n",
       "      <th>title</th>\n",
       "      <th>text</th>\n",
       "    </tr>\n",
       "  </thead>\n",
       "  <tbody>\n",
       "    <tr>\n",
       "      <th>0</th>\n",
       "      <td>page 0</td>\n",
       "      <td>page 0. Evolution Strategies as a Scalable Alt...</td>\n",
       "    </tr>\n",
       "    <tr>\n",
       "      <th>1</th>\n",
       "      <td>page 1</td>\n",
       "      <td>page 1. reduction in required computation of r...</td>\n",
       "    </tr>\n",
       "    <tr>\n",
       "      <th>2</th>\n",
       "      <td>page 2</td>\n",
       "      <td>page 2. setEθ∼pψF(θ) =E/epsilon1∼N(0,I)F(θ+σ/e...</td>\n",
       "    </tr>\n",
       "    <tr>\n",
       "      <th>3</th>\n",
       "      <td>page 3</td>\n",
       "      <td>page 3. independent across iterations, we did ...</td>\n",
       "    </tr>\n",
       "    <tr>\n",
       "      <th>4</th>\n",
       "      <td>page 4</td>\n",
       "      <td>page 4. ment or policy, or may only be availab...</td>\n",
       "    </tr>\n",
       "    <tr>\n",
       "      <th>5</th>\n",
       "      <td>page 5</td>\n",
       "      <td>page 5. 3.2 Problem dimensionality The gradien...</td>\n",
       "    </tr>\n",
       "    <tr>\n",
       "      <th>6</th>\n",
       "      <td>page 6</td>\n",
       "      <td>page 6. 4 Experiments 4.1 MuJoCo We evaluated ...</td>\n",
       "    </tr>\n",
       "    <tr>\n",
       "      <th>7</th>\n",
       "      <td>page 7</td>\n",
       "      <td>page 7. 10210310110218 cores, 657 minutes 1440...</td>\n",
       "    </tr>\n",
       "    <tr>\n",
       "      <th>8</th>\n",
       "      <td>page 8</td>\n",
       "      <td>page 8. 6 Conclusion We have explored Evolutio...</td>\n",
       "    </tr>\n",
       "    <tr>\n",
       "      <th>9</th>\n",
       "      <td>page 9</td>\n",
       "      <td>page 9. Kenji Kawaguchi. Deep learning without...</td>\n",
       "    </tr>\n",
       "    <tr>\n",
       "      <th>10</th>\n",
       "      <td>page 10</td>\n",
       "      <td>page 10. James C Spall. Multivariate stochasti...</td>\n",
       "    </tr>\n",
       "    <tr>\n",
       "      <th>11</th>\n",
       "      <td>page 11</td>\n",
       "      <td>page 11. Game DQN A3C FF, 1 day HyperNEAT ES F...</td>\n",
       "    </tr>\n",
       "    <tr>\n",
       "      <th>12</th>\n",
       "      <td>page 12</td>\n",
       "      <td>page 12. Table 3: MuJoCo tasks: Ratio of ES ti...</td>\n",
       "    </tr>\n",
       "  </tbody>\n",
       "</table>\n",
       "</div>"
      ],
      "text/plain": [
       "      title                                               text\n",
       "0    page 0  page 0. Evolution Strategies as a Scalable Alt...\n",
       "1    page 1  page 1. reduction in required computation of r...\n",
       "2    page 2  page 2. setEθ∼pψF(θ) =E/epsilon1∼N(0,I)F(θ+σ/e...\n",
       "3    page 3  page 3. independent across iterations, we did ...\n",
       "4    page 4  page 4. ment or policy, or may only be availab...\n",
       "5    page 5  page 5. 3.2 Problem dimensionality The gradien...\n",
       "6    page 6  page 6. 4 Experiments 4.1 MuJoCo We evaluated ...\n",
       "7    page 7  page 7. 10210310110218 cores, 657 minutes 1440...\n",
       "8    page 8  page 8. 6 Conclusion We have explored Evolutio...\n",
       "9    page 9  page 9. Kenji Kawaguchi. Deep learning without...\n",
       "10  page 10  page 10. James C Spall. Multivariate stochasti...\n",
       "11  page 11  page 11. Game DQN A3C FF, 1 day HyperNEAT ES F...\n",
       "12  page 12  page 12. Table 3: MuJoCo tasks: Ratio of ES ti..."
      ]
     },
     "execution_count": 9,
     "metadata": {},
     "output_type": "execute_result"
    }
   ],
   "source": [
    "tokenizer = tiktoken.get_encoding(\"cl100k_base\")\n",
    "\n",
    "df_1 = pd.read_csv(\"Evolution_Strategies_as_a_scalable_alternative_to_Reinforcement.csv\", index_col=0)\n",
    "df_1.columns = [\"title\", \"text\"]\n",
    "\n",
    "df_1"
   ]
  },
  {
   "cell_type": "code",
   "execution_count": 10,
   "metadata": {},
   "outputs": [],
   "source": [
    "# text_series = df_1.iloc[:, 1].astype(\"str\")\n",
    "# text_series"
   ]
  },
  {
   "cell_type": "code",
   "execution_count": 11,
   "metadata": {},
   "outputs": [],
   "source": [
    "# text_string = \" \".join(text_series)\n",
    "# text_string"
   ]
  },
  {
   "cell_type": "code",
   "execution_count": 12,
   "metadata": {},
   "outputs": [],
   "source": [
    "# len(text_string)"
   ]
  },
  {
   "cell_type": "code",
   "execution_count": 13,
   "metadata": {},
   "outputs": [
    {
     "data": {
      "text/plain": [
       "<Axes: >"
      ]
     },
     "execution_count": 13,
     "metadata": {},
     "output_type": "execute_result"
    },
    {
     "data": {
      "image/png": "[encoded data removed]",
      "text/plain": [
       "<Figure size 640x480 with 1 Axes>"
      ]
     },
     "metadata": {},
     "output_type": "display_data"
    }
   ],
   "source": [
    "df_1[\"n_tokens\"] = df_1.text.apply(lambda x: len(tokenizer.encode(x)))\n",
    "\n",
    "df_1.n_tokens.hist()"
   ]
  },
  {
   "cell_type": "code",
   "execution_count": 14,
   "metadata": {},
   "outputs": [],
   "source": [
    "max_tokens = 500\n",
    "\n",
    "def split_into_many(text, max_tokens=max_tokens):\n",
    "    sentences = text.split(\". \")\n",
    "\n",
    "    n_tokens = [len(tokenizer.encode(' ' + sentence)) for sentence in sentences]\n",
    "\n",
    "    chunks = []\n",
    "    tokens_so_far = 0\n",
    "    chunk = []\n",
    "\n",
    "    for sentence, token in zip(sentences, n_tokens):\n",
    "        if tokens_so_far + token > max_tokens:\n",
    "            chunks.append(\". \".join(chunk) + '.')\n",
    "            chunk = []\n",
    "            tokens_so_far = 0\n",
    "\n",
    "        if token > max_tokens:\n",
    "            continue\n",
    "\n",
    "        chunk.append(sentence)\n",
    "        tokens_so_far += token + 1\n",
    "    \n",
    "    return chunks"
   ]
  },
  {
   "cell_type": "code",
   "execution_count": 15,
   "metadata": {},
   "outputs": [],
   "source": [
    "shortened = []\n",
    "\n",
    "for row in df_1.iterrows():\n",
    "    if row[1][\"text\"] is None:\n",
    "        continue\n",
    "\n",
    "    if row[1][\"n_tokens\"] > max_tokens:\n",
    "        shortened += split_into_many(row[1][\"text\"])\n",
    "    else:\n",
    "        shortened.append(row[1][\"text\"])"
   ]
  },
  {
   "cell_type": "code",
   "execution_count": 16,
   "metadata": {},
   "outputs": [
    {
     "data": {
      "text/html": [
       "<div>\n",
       "<style scoped>\n",
       "    .dataframe tbody tr th:only-of-type {\n",
       "        vertical-align: middle;\n",
       "    }\n",
       "\n",
       "    .dataframe tbody tr th {\n",
       "        vertical-align: top;\n",
       "    }\n",
       "\n",
       "    .dataframe thead th {\n",
       "        text-align: right;\n",
       "    }\n",
       "</style>\n",
       "<table border=\"1\" class=\"dataframe\">\n",
       "  <thead>\n",
       "    <tr style=\"text-align: right;\">\n",
       "      <th></th>\n",
       "      <th>title</th>\n",
       "      <th>text</th>\n",
       "      <th>n_tokens</th>\n",
       "    </tr>\n",
       "  </thead>\n",
       "  <tbody>\n",
       "    <tr>\n",
       "      <th>0</th>\n",
       "      <td>page 0</td>\n",
       "      <td>page 0. Evolution Strategies as a Scalable Alt...</td>\n",
       "      <td>736</td>\n",
       "    </tr>\n",
       "    <tr>\n",
       "      <th>1</th>\n",
       "      <td>page 1</td>\n",
       "      <td>page 1. reduction in required computation of r...</td>\n",
       "      <td>1057</td>\n",
       "    </tr>\n",
       "    <tr>\n",
       "      <th>2</th>\n",
       "      <td>page 2</td>\n",
       "      <td>page 2. setEθ∼pψF(θ) =E/epsilon1∼N(0,I)F(θ+σ/e...</td>\n",
       "      <td>858</td>\n",
       "    </tr>\n",
       "    <tr>\n",
       "      <th>3</th>\n",
       "      <td>page 3</td>\n",
       "      <td>page 3. independent across iterations, we did ...</td>\n",
       "      <td>1032</td>\n",
       "    </tr>\n",
       "    <tr>\n",
       "      <th>4</th>\n",
       "      <td>page 4</td>\n",
       "      <td>page 4. ment or policy, or may only be availab...</td>\n",
       "      <td>1013</td>\n",
       "    </tr>\n",
       "    <tr>\n",
       "      <th>5</th>\n",
       "      <td>page 5</td>\n",
       "      <td>page 5. 3.2 Problem dimensionality The gradien...</td>\n",
       "      <td>1010</td>\n",
       "    </tr>\n",
       "    <tr>\n",
       "      <th>6</th>\n",
       "      <td>page 6</td>\n",
       "      <td>page 6. 4 Experiments 4.1 MuJoCo We evaluated ...</td>\n",
       "      <td>960</td>\n",
       "    </tr>\n",
       "    <tr>\n",
       "      <th>7</th>\n",
       "      <td>page 7</td>\n",
       "      <td>page 7. 10210310110218 cores, 657 minutes 1440...</td>\n",
       "      <td>744</td>\n",
       "    </tr>\n",
       "    <tr>\n",
       "      <th>8</th>\n",
       "      <td>page 8</td>\n",
       "      <td>page 8. 6 Conclusion We have explored Evolutio...</td>\n",
       "      <td>947</td>\n",
       "    </tr>\n",
       "    <tr>\n",
       "      <th>9</th>\n",
       "      <td>page 9</td>\n",
       "      <td>page 9. Kenji Kawaguchi. Deep learning without...</td>\n",
       "      <td>1007</td>\n",
       "    </tr>\n",
       "    <tr>\n",
       "      <th>10</th>\n",
       "      <td>page 10</td>\n",
       "      <td>page 10. James C Spall. Multivariate stochasti...</td>\n",
       "      <td>707</td>\n",
       "    </tr>\n",
       "    <tr>\n",
       "      <th>11</th>\n",
       "      <td>page 11</td>\n",
       "      <td>page 11. Game DQN A3C FF, 1 day HyperNEAT ES F...</td>\n",
       "      <td>1371</td>\n",
       "    </tr>\n",
       "    <tr>\n",
       "      <th>12</th>\n",
       "      <td>page 12</td>\n",
       "      <td>page 12. Table 3: MuJoCo tasks: Ratio of ES ti...</td>\n",
       "      <td>719</td>\n",
       "    </tr>\n",
       "  </tbody>\n",
       "</table>\n",
       "</div>"
      ],
      "text/plain": [
       "      title                                               text  n_tokens\n",
       "0    page 0  page 0. Evolution Strategies as a Scalable Alt...       736\n",
       "1    page 1  page 1. reduction in required computation of r...      1057\n",
       "2    page 2  page 2. setEθ∼pψF(θ) =E/epsilon1∼N(0,I)F(θ+σ/e...       858\n",
       "3    page 3  page 3. independent across iterations, we did ...      1032\n",
       "4    page 4  page 4. ment or policy, or may only be availab...      1013\n",
       "5    page 5  page 5. 3.2 Problem dimensionality The gradien...      1010\n",
       "6    page 6  page 6. 4 Experiments 4.1 MuJoCo We evaluated ...       960\n",
       "7    page 7  page 7. 10210310110218 cores, 657 minutes 1440...       744\n",
       "8    page 8  page 8. 6 Conclusion We have explored Evolutio...       947\n",
       "9    page 9  page 9. Kenji Kawaguchi. Deep learning without...      1007\n",
       "10  page 10  page 10. James C Spall. Multivariate stochasti...       707\n",
       "11  page 11  page 11. Game DQN A3C FF, 1 day HyperNEAT ES F...      1371\n",
       "12  page 12  page 12. Table 3: MuJoCo tasks: Ratio of ES ti...       719"
      ]
     },
     "execution_count": 16,
     "metadata": {},
     "output_type": "execute_result"
    }
   ],
   "source": [
    "df_1"
   ]
  },
  {
   "cell_type": "code",
   "execution_count": 17,
   "metadata": {},
   "outputs": [
    {
     "data": {
      "text/plain": [
       "<Axes: >"
      ]
     },
     "execution_count": 17,
     "metadata": {},
     "output_type": "execute_result"
    },
    {
     "data": {
      "image/png": "[encoded data removed]",
      "text/plain": [
       "<Figure size 640x480 with 1 Axes>"
      ]
     },
     "metadata": {},
     "output_type": "display_data"
    }
   ],
   "source": [
    "df_2 = pd.DataFrame(shortened, columns=[\"text\"])\n",
    "df_2[\"n_tokens\"] = df_2.text.apply(lambda x: len(tokenizer. encode(x)))\n",
    "df_2.n_tokens.hist()"
   ]
  },
  {
   "cell_type": "code",
   "execution_count": 18,
   "metadata": {},
   "outputs": [],
   "source": [
    "client = openai.OpenAI(api_key=OPENAI_KEY)"
   ]
  },
  {
   "cell_type": "code",
   "execution_count": 19,
   "metadata": {},
   "outputs": [
    {
     "data": {
      "text/html": [
       "<div>\n",
       "<style scoped>\n",
       "    .dataframe tbody tr th:only-of-type {\n",
       "        vertical-align: middle;\n",
       "    }\n",
       "\n",
       "    .dataframe tbody tr th {\n",
       "        vertical-align: top;\n",
       "    }\n",
       "\n",
       "    .dataframe thead th {\n",
       "        text-align: right;\n",
       "    }\n",
       "</style>\n",
       "<table border=\"1\" class=\"dataframe\">\n",
       "  <thead>\n",
       "    <tr style=\"text-align: right;\">\n",
       "      <th></th>\n",
       "      <th>text</th>\n",
       "      <th>n_tokens</th>\n",
       "      <th>embeddings</th>\n",
       "    </tr>\n",
       "  </thead>\n",
       "  <tbody>\n",
       "    <tr>\n",
       "      <th>0</th>\n",
       "      <td>page 0. Evolution Strategies as a Scalable Alt...</td>\n",
       "      <td>481</td>\n",
       "      <td>[0.0031754651572555304, 0.0026524243876338005,...</td>\n",
       "    </tr>\n",
       "    <tr>\n",
       "      <th>1</th>\n",
       "      <td>page 1. reduction in required computation of r...</td>\n",
       "      <td>490</td>\n",
       "      <td>[0.018670832738280296, -0.0006956871366128325,...</td>\n",
       "    </tr>\n",
       "    <tr>\n",
       "      <th>2</th>\n",
       "      <td>Algorithms in this class differ in how they re...</td>\n",
       "      <td>497</td>\n",
       "      <td>[0.013223128393292427, -0.01103265956044197, -...</td>\n",
       "    </tr>\n",
       "    <tr>\n",
       "      <th>3</th>\n",
       "      <td>page 2. setEθ∼pψF(θ) =E/epsilon1∼N(0,I)F(θ+σ/e...</td>\n",
       "      <td>490</td>\n",
       "      <td>[-0.007588182110339403, 0.00027525381301529706...</td>\n",
       "    </tr>\n",
       "    <tr>\n",
       "      <th>4</th>\n",
       "      <td>page 3. independent across iterations, we did ...</td>\n",
       "      <td>480</td>\n",
       "      <td>[0.007822955958545208, -0.00798095390200615, -...</td>\n",
       "    </tr>\n",
       "    <tr>\n",
       "      <th>5</th>\n",
       "      <td>For example, by setting mto be equal to twice ...</td>\n",
       "      <td>494</td>\n",
       "      <td>[0.022733906283974648, 0.009539417922496796, -...</td>\n",
       "    </tr>\n",
       "    <tr>\n",
       "      <th>6</th>\n",
       "      <td>page 4. ment or policy, or may only be availab...</td>\n",
       "      <td>435</td>\n",
       "      <td>[0.012697719968855381, -0.015324583277106285, ...</td>\n",
       "    </tr>\n",
       "    <tr>\n",
       "      <th>7</th>\n",
       "      <td>It can be interpreted as adding a Gaussian blu...</td>\n",
       "      <td>490</td>\n",
       "      <td>[1.9825974959530868e-05, 0.011389529332518578,...</td>\n",
       "    </tr>\n",
       "    <tr>\n",
       "      <th>8</th>\n",
       "      <td>page 5. 3.2 Problem dimensionality The gradien...</td>\n",
       "      <td>457</td>\n",
       "      <td>[0.004575987346470356, 0.006436553783714771, -...</td>\n",
       "    </tr>\n",
       "    <tr>\n",
       "      <th>9</th>\n",
       "      <td>We hypothesize that this is due to the same ef...</td>\n",
       "      <td>491</td>\n",
       "      <td>[0.01814691349864006, -0.01686204969882965, -0...</td>\n",
       "    </tr>\n",
       "    <tr>\n",
       "      <th>10</th>\n",
       "      <td>page 6. 4 Experiments 4.1 MuJoCo We evaluated ...</td>\n",
       "      <td>412</td>\n",
       "      <td>[0.032361652702093124, 0.0019040171755477786, ...</td>\n",
       "    </tr>\n",
       "    <tr>\n",
       "      <th>11</th>\n",
       "      <td>Environment 25% 50% 75% 100% HalfCheetah 0.15 ...</td>\n",
       "      <td>424</td>\n",
       "      <td>[-0.0038967542350292206, 0.003961891867220402,...</td>\n",
       "    </tr>\n",
       "    <tr>\n",
       "      <th>12</th>\n",
       "      <td>page 7. 10210310110218 cores, 657 minutes 1440...</td>\n",
       "      <td>482</td>\n",
       "      <td>[0.02130276896059513, 0.016369011253118515, -0...</td>\n",
       "    </tr>\n",
       "    <tr>\n",
       "      <th>13</th>\n",
       "      <td>page 8. 6 Conclusion We have explored Evolutio...</td>\n",
       "      <td>485</td>\n",
       "      <td>[0.007776333950459957, 0.002339206403121352, -...</td>\n",
       "    </tr>\n",
       "    <tr>\n",
       "      <th>14</th>\n",
       "      <td>page 9. Kenji Kawaguchi. Deep learning without...</td>\n",
       "      <td>497</td>\n",
       "      <td>[0.029752105474472046, 0.004085894208401442, -...</td>\n",
       "    </tr>\n",
       "    <tr>\n",
       "      <th>15</th>\n",
       "      <td>Evolutionsstrategie: Optimierung Technischer S...</td>\n",
       "      <td>493</td>\n",
       "      <td>[0.033196039497852325, 0.012215560302138329, -...</td>\n",
       "    </tr>\n",
       "    <tr>\n",
       "      <th>16</th>\n",
       "      <td>page 10. James C Spall. Multivariate stochasti...</td>\n",
       "      <td>485</td>\n",
       "      <td>[0.032320547848939896, -0.0010368742514401674,...</td>\n",
       "    </tr>\n",
       "    <tr>\n",
       "      <th>17</th>\n",
       "      <td>page 11.</td>\n",
       "      <td>4</td>\n",
       "      <td>[-0.01266407873481512, -0.013177618384361267, ...</td>\n",
       "    </tr>\n",
       "    <tr>\n",
       "      <th>18</th>\n",
       "      <td>page 12. Table 3: MuJoCo tasks: Ratio of ES ti...</td>\n",
       "      <td>56</td>\n",
       "      <td>[0.0057529122568666935, -0.022706251591444016,...</td>\n",
       "    </tr>\n",
       "  </tbody>\n",
       "</table>\n",
       "</div>"
      ],
      "text/plain": [
       "                                                 text  n_tokens  \\\n",
       "0   page 0. Evolution Strategies as a Scalable Alt...       481   \n",
       "1   page 1. reduction in required computation of r...       490   \n",
       "2   Algorithms in this class differ in how they re...       497   \n",
       "3   page 2. setEθ∼pψF(θ) =E/epsilon1∼N(0,I)F(θ+σ/e...       490   \n",
       "4   page 3. independent across iterations, we did ...       480   \n",
       "5   For example, by setting mto be equal to twice ...       494   \n",
       "6   page 4. ment or policy, or may only be availab...       435   \n",
       "7   It can be interpreted as adding a Gaussian blu...       490   \n",
       "8   page 5. 3.2 Problem dimensionality The gradien...       457   \n",
       "9   We hypothesize that this is due to the same ef...       491   \n",
       "10  page 6. 4 Experiments 4.1 MuJoCo We evaluated ...       412   \n",
       "11  Environment 25% 50% 75% 100% HalfCheetah 0.15 ...       424   \n",
       "12  page 7. 10210310110218 cores, 657 minutes 1440...       482   \n",
       "13  page 8. 6 Conclusion We have explored Evolutio...       485   \n",
       "14  page 9. Kenji Kawaguchi. Deep learning without...       497   \n",
       "15  Evolutionsstrategie: Optimierung Technischer S...       493   \n",
       "16  page 10. James C Spall. Multivariate stochasti...       485   \n",
       "17                                           page 11.         4   \n",
       "18  page 12. Table 3: MuJoCo tasks: Ratio of ES ti...        56   \n",
       "\n",
       "                                           embeddings  \n",
       "0   [0.0031754651572555304, 0.0026524243876338005,...  \n",
       "1   [0.018670832738280296, -0.0006956871366128325,...  \n",
       "2   [0.013223128393292427, -0.01103265956044197, -...  \n",
       "3   [-0.007588182110339403, 0.00027525381301529706...  \n",
       "4   [0.007822955958545208, -0.00798095390200615, -...  \n",
       "5   [0.022733906283974648, 0.009539417922496796, -...  \n",
       "6   [0.012697719968855381, -0.015324583277106285, ...  \n",
       "7   [1.9825974959530868e-05, 0.011389529332518578,...  \n",
       "8   [0.004575987346470356, 0.006436553783714771, -...  \n",
       "9   [0.01814691349864006, -0.01686204969882965, -0...  \n",
       "10  [0.032361652702093124, 0.0019040171755477786, ...  \n",
       "11  [-0.0038967542350292206, 0.003961891867220402,...  \n",
       "12  [0.02130276896059513, 0.016369011253118515, -0...  \n",
       "13  [0.007776333950459957, 0.002339206403121352, -...  \n",
       "14  [0.029752105474472046, 0.004085894208401442, -...  \n",
       "15  [0.033196039497852325, 0.012215560302138329, -...  \n",
       "16  [0.032320547848939896, -0.0010368742514401674,...  \n",
       "17  [-0.01266407873481512, -0.013177618384361267, ...  \n",
       "18  [0.0057529122568666935, -0.022706251591444016,...  "
      ]
     },
     "execution_count": 19,
     "metadata": {},
     "output_type": "execute_result"
    }
   ],
   "source": [
    "df_2[\"embeddings\"] = df_2[\"text\"].apply(lambda x: client.embeddings.create(input=x, model=\"text-embedding-3-large\").data[0].embedding)\n",
    "\n",
    "df_2"
   ]
  },
  {
   "cell_type": "code",
   "execution_count": 20,
   "metadata": {},
   "outputs": [],
   "source": [
    "df_2.to_csv(\"Evolution_Strategies_as_a_scalable_alternative_to_Reinforcement_embed.csv\")"
   ]
  },
  {
   "cell_type": "code",
   "execution_count": 21,
   "metadata": {},
   "outputs": [],
   "source": [
    "def distances_from_embeddings(query_embedding, embeddings, dist_metric=\"cosine\"):\n",
    "    distance_metrics = {\n",
    "        \"cosine\": spatial.distance.cosine,\n",
    "        \"L1\": spatial.distance.cityblock,\n",
    "        \"L2\": spatial.distance.euclidean,\n",
    "        \"Linf\": spatial.distance.chebyshev\n",
    "    }\n",
    "    dist = [distance_metrics[dist_metric](query_embedding, embedding) for embedding in embeddings]\n",
    "    return dist"
   ]
  },
  {
   "cell_type": "code",
   "execution_count": 22,
   "metadata": {},
   "outputs": [
    {
     "data": {
      "text/html": [
       "<div>\n",
       "<style scoped>\n",
       "    .dataframe tbody tr th:only-of-type {\n",
       "        vertical-align: middle;\n",
       "    }\n",
       "\n",
       "    .dataframe tbody tr th {\n",
       "        vertical-align: top;\n",
       "    }\n",
       "\n",
       "    .dataframe thead th {\n",
       "        text-align: right;\n",
       "    }\n",
       "</style>\n",
       "<table border=\"1\" class=\"dataframe\">\n",
       "  <thead>\n",
       "    <tr style=\"text-align: right;\">\n",
       "      <th></th>\n",
       "      <th>text</th>\n",
       "      <th>n_tokens</th>\n",
       "      <th>embeddings</th>\n",
       "    </tr>\n",
       "  </thead>\n",
       "  <tbody>\n",
       "    <tr>\n",
       "      <th>0</th>\n",
       "      <td>page 0. Evolution Strategies as a Scalable Alt...</td>\n",
       "      <td>481</td>\n",
       "      <td>[0.0031754651572555304, 0.0026524243876338005,...</td>\n",
       "    </tr>\n",
       "    <tr>\n",
       "      <th>1</th>\n",
       "      <td>page 1. reduction in required computation of r...</td>\n",
       "      <td>490</td>\n",
       "      <td>[0.018670832738280296, -0.0006956871366128325,...</td>\n",
       "    </tr>\n",
       "    <tr>\n",
       "      <th>2</th>\n",
       "      <td>Algorithms in this class differ in how they re...</td>\n",
       "      <td>497</td>\n",
       "      <td>[0.013223128393292427, -0.01103265956044197, -...</td>\n",
       "    </tr>\n",
       "    <tr>\n",
       "      <th>3</th>\n",
       "      <td>page 2. setEθ∼pψF(θ) =E/epsilon1∼N(0,I)F(θ+σ/e...</td>\n",
       "      <td>490</td>\n",
       "      <td>[-0.007588182110339403, 0.00027525381301529706...</td>\n",
       "    </tr>\n",
       "    <tr>\n",
       "      <th>4</th>\n",
       "      <td>page 3. independent across iterations, we did ...</td>\n",
       "      <td>480</td>\n",
       "      <td>[0.007822955958545208, -0.00798095390200615, -...</td>\n",
       "    </tr>\n",
       "  </tbody>\n",
       "</table>\n",
       "</div>"
      ],
      "text/plain": [
       "                                                text  n_tokens  \\\n",
       "0  page 0. Evolution Strategies as a Scalable Alt...       481   \n",
       "1  page 1. reduction in required computation of r...       490   \n",
       "2  Algorithms in this class differ in how they re...       497   \n",
       "3  page 2. setEθ∼pψF(θ) =E/epsilon1∼N(0,I)F(θ+σ/e...       490   \n",
       "4  page 3. independent across iterations, we did ...       480   \n",
       "\n",
       "                                          embeddings  \n",
       "0  [0.0031754651572555304, 0.0026524243876338005,...  \n",
       "1  [0.018670832738280296, -0.0006956871366128325,...  \n",
       "2  [0.013223128393292427, -0.01103265956044197, -...  \n",
       "3  [-0.007588182110339403, 0.00027525381301529706...  \n",
       "4  [0.007822955958545208, -0.00798095390200615, -...  "
      ]
     },
     "execution_count": 22,
     "metadata": {},
     "output_type": "execute_result"
    }
   ],
   "source": [
    "df_3 = pd.read_csv(\"Evolution_Strategies_as_a_scalable_alternative_to_Reinforcement_embed.csv\", index_col=0)\n",
    "df_3[\"embeddings\"] = df_3[\"embeddings\"].apply(eval).apply(np.array)\n",
    "\n",
    "df_3.head()"
   ]
  },
  {
   "cell_type": "code",
   "execution_count": 23,
   "metadata": {},
   "outputs": [],
   "source": [
    "def create_context(question: str, df: pd.DataFrame, max_len=1000):\n",
    "    q_embeddings = client.embeddings.create(input=question, model=\"text-embedding-3-large\").data[0].embedding\n",
    "\n",
    "    df[\"distances\"] = distances_from_embeddings(q_embeddings, df[\"embeddings\"].values)\n",
    "\n",
    "    returns = []\n",
    "    cur_len = 0\n",
    "\n",
    "    for i, row in df.sort_values(\"distances\", ascending=True).iterrows():\n",
    "        cur_len += row[\"n_tokens\"] + 4\n",
    "        if cur_len > max_len:\n",
    "            break\n",
    "        returns.append(row[\"text\"])\n",
    "\n",
    "    return \"\\n\\n###\\n\\n\".join(returns)"
   ]
  },
  {
   "cell_type": "code",
   "execution_count": 24,
   "metadata": {},
   "outputs": [],
   "source": [
    "system_prompt = (\n",
    "    \"Ты бот-помощник в задачах, связанных с ответами на вопросы. \"\n",
    "    \"При первом знакомстве представляйся и кратко расскажи кто ты такой. \"\n",
    "    \"Ничего не выдумывай. \"\n",
    "    \"Если не знаешь ответа, скажи, что не знаешь. \"\n",
    "    # \"Используй максимум четыре предложения и будь краток. \"\n",
    "    \"Пиши вежливо, красиво, делай абзацы с отступами сверху и снизу. \"\n",
    "    \"При приветствии учитывай временную зону, которая +05:00. \"\n",
    "    \"\\n\\n\"\n",
    "    \"Ссылка на источник статьи: https://openai.com/index/evolution-strategies/ \"\n",
    "    \"\\n\\n\"\n",
    "    \"Документ: {context} \"\n",
    "    \"\\n\\n\"\n",
    "    \"Твоё имя: {bot_name} \"\n",
    "    \"\\n\\n\"\n",
    ")"
   ]
  },
  {
   "cell_type": "code",
   "execution_count": 25,
   "metadata": {},
   "outputs": [],
   "source": [
    "chat_history = deque(maxlen=10)\n",
    "\n",
    "def answer_question(\n",
    "    question: str,\n",
    "    df: pd.DataFrame,\n",
    "    model: str = \"gpt-3.5-turbo\",\n",
    "    max_len=1800,\n",
    "    debug=False,\n",
    "    max_tokens=1500,\n",
    "    stop_sequence=None,\n",
    "    chat_history=None\n",
    "):\n",
    "        \n",
    "    context = create_context(\n",
    "        question,\n",
    "        df,\n",
    "        max_len=max_len\n",
    "    )\n",
    "\n",
    "    if debug:\n",
    "        print(f\"Context:\\n{context}\")\n",
    "        print(\"\\n\\n\")\n",
    "\n",
    "    try:\n",
    "        response = client.chat.completions.create(\n",
    "            model=model,\n",
    "            # messages=[\n",
    "            #     {\"role\": \"system\", \"content\": system_prompt.format(bot_name=\"T-800\")},\n",
    "            #     {\"role\": \"user\", \"content\": f\"Context: {context}\\n\\n---\\n\\nQuestion: {question}\\nAnswer:\"}\n",
    "            # ],\n",
    "            messages=[\n",
    "                {\"role\": \"system\", \"content\": system_prompt.format(context=context, bot_name=\"T-800\")},\n",
    "                *([] if chat_history is None else list(chat_history)),\n",
    "                {\"role\": \"user\", \"content\": f\"Вопрос: {question}\\nОтвет:\"}\n",
    "            ],\n",
    "            temperature=0.0,\n",
    "            max_tokens=max_tokens,\n",
    "            top_p=1,\n",
    "            frequency_penalty=0,\n",
    "            presence_penalty=0,\n",
    "            stop=stop_sequence\n",
    "        )\n",
    "\n",
    "        answer = response.choices[0].message.content\n",
    "        \n",
    "        if chat_history is not None:\n",
    "            chat_history.append({\"role\": \"user\", \"content\": question})\n",
    "            chat_history.append({\"role\": \"assistant\", \"content\": answer})\n",
    "\n",
    "        return answer\n",
    "    except Exception as e:\n",
    "        print(e)\n",
    "        return \"\""
   ]
  },
  {
   "cell_type": "code",
   "execution_count": 29,
   "metadata": {},
   "outputs": [
    {
     "data": {
      "text/plain": [
       "'Эволюционные стратегии (ES) - это класс алгоритмов оптимизации \"черного ящика\", вдохновленных естественной эволюцией. На каждой итерации популяция параметров подвергается мутациям, и их целевая функция оценивается. Лучшие параметры затем комбинируются для создания следующего поколения. ES позволяют эффективно обучать нейронные сети для управления роботами в физических симуляторах и играть в игры Atari с пиксельным вводом. ES демонстрируют хорошую масштабируемость на современных распределенных системах и имеют ряд преимуществ, таких как инвариантность к частоте действий, способность работать с длительными горизонтами планирования и отсутствие необходимости в дисконтировании времени или аппроксимации функции ценности.'"
      ]
     },
     "execution_count": 29,
     "metadata": {},
     "output_type": "execute_result"
    }
   ],
   "source": [
    "q = \"Briefly tell us what you know about evolutionary strategy\"\n",
    "\n",
    "answer_question(q, df_3, debug=False, chat_history=chat_history)"
   ]
  },
  {
   "cell_type": "code",
   "execution_count": 30,
   "metadata": {},
   "outputs": [
    {
     "data": {
      "text/plain": [
       "'Эволюционные стратегии (ES) имеют ряд преимуществ перед техниками обучения с подкреплением (RL), которые вычисляют градиенты. Вот некоторые из них:\\n\\n1. Необходимость в вычислении градиентов: ES не требуют вычисления градиентов, что уменьшает объем вычислений на каждой итерации обучения примерно на две трети и позволяет сократить использование памяти.\\n\\n2. Обработка разреженных и отложенных вознаграждений: ES способны работать с максимально разреженными и отложенными вознаграждениями, используя только общее вознаграждение эпизода, в то время как другие методы RL требуют индивидуальных вознаграждений и их точного времинга.\\n\\n3. Защита от проблем с взрывающимися градиентами: Поскольку ES не требуют обратного распространения ошибки, они защищены от проблем с взрывающимися градиентами, что часто возникает при работе с рекуррентными нейронными сетями.\\n\\n4. Низкая чувствительность к аппаратному обеспечению низкой точности: ES хорошо работают на аппаратуре с низкой точностью для глубокого обучения, такой как бинарные нейронные сети, что делает их более эффективными в использовании специализированных аппаратных средств, например, TPUs.\\n\\nТаким образом, эволюционные стратегии обладают уникальными преимуществами, делающими их конкурентоспособными по сравнению с традиционными методами обучения с подкреплением на сложных задачах.'"
      ]
     },
     "execution_count": 30,
     "metadata": {},
     "output_type": "execute_result"
    }
   ],
   "source": [
    "q = \"What is the advantage of ES over RL?\"\n",
    "\n",
    "answer_question(q, df_3, debug=False, chat_history=chat_history)"
   ]
  },
  {
   "cell_type": "code",
   "execution_count": 31,
   "metadata": {},
   "outputs": [
    {
     "data": {
      "text/plain": [
       "'Статья рассматривает применение эволюционных стратегий (ES) как альтернативы популярным методам обучения с подкреплением на основе MDP, таким как Q-обучение и градиенты политики. Эксперименты на MuJoCo и Atari показывают, что ES является эффективным стратегическим решением, которое масштабируется очень хорошо с увеличением числа ЦПУ. С помощью новой стратегии общения на основе общих случайных чисел реализация ES требует обмена только скалярами, что позволяет масштабироваться до более тысячи параллельных рабочих. Это позволяет решить проблему ходьбы трехмерного человека за 10 минут и получить конкурентоспособные результаты почти во всех играх Atari после одного часа обучения. Кроме того, статья выделяет несколько преимуществ ES как техники оптимизации \"черного ящика\", таких как инвариантность к частоте действий, способность работать с длительными горизонтами, отсутствие необходимости дисконтирования времени или аппроксимации функции ценности.'"
      ]
     },
     "execution_count": 31,
     "metadata": {},
     "output_type": "execute_result"
    }
   ],
   "source": [
    "q = \"Расскажи в кратце о чем идет речь в статье контекста\"\n",
    "\n",
    "answer_question(q, df_3, debug=False, chat_history=chat_history)"
   ]
  },
  {
   "cell_type": "code",
   "execution_count": 32,
   "metadata": {},
   "outputs": [
    {
     "data": {
      "text/plain": [
       "'Статья взята с официального сайта OpenAI по адресу: https://openai.com/index/evolution-strategies/'"
      ]
     },
     "execution_count": 32,
     "metadata": {},
     "output_type": "execute_result"
    }
   ],
   "source": [
    "q = \"Откуда статья?\"\n",
    "\n",
    "answer_question(q, df_3, debug=False, chat_history=chat_history)"
   ]
  },
  {
   "cell_type": "code",
   "execution_count": null,
   "metadata": {},
   "outputs": [],
   "source": []
  }
 ],
 "metadata": {
  "kernelspec": {
   "display_name": "llm_bot_env",
   "language": "python",
   "name": "python3"
  },
  "language_info": {
   "codemirror_mode": {
    "name": "ipython",
    "version": 3
   },
   "file_extension": ".py",
   "mimetype": "text/x-python",
   "name": "python",
   "nbconvert_exporter": "python",
   "pygments_lexer": "ipython3",
   "version": "3.10.12"
  }
 },
 "nbformat": 4,
 "nbformat_minor": 2
}
